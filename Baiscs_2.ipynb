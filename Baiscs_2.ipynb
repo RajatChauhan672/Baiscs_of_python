{
 "cells": [
  {
   "cell_type": "code",
   "execution_count": 4,
   "id": "aca91279",
   "metadata": {},
   "outputs": [
    {
     "name": "stdout",
     "output_type": "stream",
     "text": [
      "5\n"
     ]
    }
   ],
   "source": [
    "#right shift operator\n",
    "#it divides the number by 2\n",
    "a=10\n",
    "result=a>>1\n",
    "print(result)"
   ]
  },
  {
   "cell_type": "code",
   "execution_count": 6,
   "id": "10428863",
   "metadata": {},
   "outputs": [
    {
     "name": "stdout",
     "output_type": "stream",
     "text": [
      "20\n"
     ]
    }
   ],
   "source": [
    "#left shift operator\n",
    "#it multiplies the number by two\n",
    "a=10\n",
    "result=a<<1\n",
    "print(result)"
   ]
  },
  {
   "cell_type": "code",
   "execution_count": 7,
   "id": "c2fc9610",
   "metadata": {},
   "outputs": [
    {
     "name": "stdout",
     "output_type": "stream",
     "text": [
      "Enter your nameRajat Chauhan\n",
      "Rajat Chauhan\n"
     ]
    }
   ],
   "source": [
    "# Taking input from the user\n",
    "name=input(\"Enter your name\")\n",
    "print(name)"
   ]
  },
  {
   "cell_type": "code",
   "execution_count": 8,
   "id": "0ffc69bb",
   "metadata": {},
   "outputs": [
    {
     "name": "stdout",
     "output_type": "stream",
     "text": [
      "ENter your nameRajat Chauhan\n",
      "welcome Rajat Chauhan\n"
     ]
    }
   ],
   "source": [
    "# Taking input  and printing using formatting\n",
    "name=input(\"ENter your name\")\n",
    "print(\"welcome {}\".format(name))"
   ]
  },
  {
   "cell_type": "markdown",
   "id": "0e2b107f",
   "metadata": {},
   "source": [
    "# IF STATEMENT"
   ]
  },
  {
   "cell_type": "code",
   "execution_count": 9,
   "id": "45487a56",
   "metadata": {},
   "outputs": [
    {
     "name": "stdout",
     "output_type": "stream",
     "text": [
      "Below age\n"
     ]
    }
   ],
   "source": [
    "age=20\n",
    "if(age<25):\n",
    "    print(\"Below age\")"
   ]
  },
  {
   "cell_type": "code",
   "execution_count": 11,
   "id": "7369a737",
   "metadata": {},
   "outputs": [
    {
     "name": "stdout",
     "output_type": "stream",
     "text": [
      "Above age\n"
     ]
    }
   ],
   "source": [
    "age=26\n",
    "if(age<25):\n",
    "    print('Below age')\n",
    "else:\n",
    "    print(\"Above age\")"
   ]
  },
  {
   "cell_type": "code",
   "execution_count": 14,
   "id": "ad583ea5",
   "metadata": {},
   "outputs": [
    {
     "name": "stdout",
     "output_type": "stream",
     "text": [
      "Enter the age25\n",
      "equal age\n"
     ]
    }
   ],
   "source": [
    "age=int(input(\"Enter the age\"))\n",
    "if(age<25):\n",
    "    print(\"Below age\")\n",
    "elif(age==25):\n",
    "    print(\"equal age\")\n",
    "else:\n",
    "    print(\"Above age\")"
   ]
  },
  {
   "cell_type": "markdown",
   "id": "1c85d939",
   "metadata": {},
   "source": [
    "# FOR LOOP"
   ]
  },
  {
   "cell_type": "code",
   "execution_count": 15,
   "id": "459c5507",
   "metadata": {},
   "outputs": [
    {
     "name": "stdout",
     "output_type": "stream",
     "text": [
      "0\n",
      "1\n",
      "2\n",
      "3\n",
      "4\n",
      "5\n",
      "6\n",
      "7\n",
      "8\n",
      "9\n"
     ]
    }
   ],
   "source": [
    "\n",
    "#for i in range(start,end,jump)\n",
    "\n",
    "for i in range(0,10,1):\n",
    "    print(i)"
   ]
  },
  {
   "cell_type": "code",
   "execution_count": 16,
   "id": "edde16b1",
   "metadata": {},
   "outputs": [
    {
     "name": "stdout",
     "output_type": "stream",
     "text": [
      "apple\n",
      "banana\n",
      "mango\n"
     ]
    }
   ],
   "source": [
    "#loop on a list\n",
    "\n",
    "fruits=['apple','banana','mango']\n",
    "for i in fruits:\n",
    "    print(i)"
   ]
  },
  {
   "cell_type": "code",
   "execution_count": 23,
   "id": "76ee59da",
   "metadata": {},
   "outputs": [
    {
     "name": "stdout",
     "output_type": "stream",
     "text": [
      "* \n",
      "* * \n",
      "* * * \n"
     ]
    }
   ],
   "source": [
    "#print given pattern\n",
    "# *\n",
    "# * *\n",
    "# * * *\n",
    "\n",
    "rows=3\n",
    "for i in range(rows):\n",
    "    for i in range(i+1):\n",
    "        print(\"*\",end=' ')\n",
    "    print()    "
   ]
  },
  {
   "cell_type": "markdown",
   "id": "8320361a",
   "metadata": {},
   "source": [
    "# WHILE LOOP"
   ]
  },
  {
   "cell_type": "code",
   "execution_count": 24,
   "id": "ed6a41a8",
   "metadata": {},
   "outputs": [
    {
     "name": "stdout",
     "output_type": "stream",
     "text": [
      "1\n",
      "2\n",
      "3\n",
      "4\n"
     ]
    }
   ],
   "source": [
    "count=1\n",
    "while count<5:\n",
    "    print(count)\n",
    "    count+=1"
   ]
  },
  {
   "cell_type": "code",
   "execution_count": 25,
   "id": "47daad6e",
   "metadata": {},
   "outputs": [
    {
     "name": "stdout",
     "output_type": "stream",
     "text": [
      "Enter a word or quit to exitrajat\n",
      "rajat\n",
      "Enter a word or quit to exitchauhan\n",
      "chauhan\n",
      "Enter a word or quit to exitquit\n",
      "quit\n"
     ]
    }
   ],
   "source": [
    "text=''\n",
    "\n",
    "while text !='quit':\n",
    "    text=input(\"Enter a word or quit to exit\")\n",
    "    print(text)"
   ]
  },
  {
   "cell_type": "code",
   "execution_count": null,
   "id": "f168e94a",
   "metadata": {},
   "outputs": [],
   "source": []
  }
 ],
 "metadata": {
  "kernelspec": {
   "display_name": "Python 3 (ipykernel)",
   "language": "python",
   "name": "python3"
  },
  "language_info": {
   "codemirror_mode": {
    "name": "ipython",
    "version": 3
   },
   "file_extension": ".py",
   "mimetype": "text/x-python",
   "name": "python",
   "nbconvert_exporter": "python",
   "pygments_lexer": "ipython3",
   "version": "3.10.9"
  }
 },
 "nbformat": 4,
 "nbformat_minor": 5
}
