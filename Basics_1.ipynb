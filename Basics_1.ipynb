{
 "cells": [
  {
   "cell_type": "raw",
   "id": "3a1ebff5",
   "metadata": {},
   "source": [
    "# Single line comment\n",
    "\"\"\"......\"\"\" multi line comment"
   ]
  },
  {
   "cell_type": "code",
   "execution_count": 1,
   "id": "5871a9b9",
   "metadata": {},
   "outputs": [
    {
     "data": {
      "text/plain": [
       "int"
      ]
     },
     "execution_count": 1,
     "metadata": {},
     "output_type": "execute_result"
    }
   ],
   "source": [
    " a=10\n",
    "type(a)"
   ]
  },
  {
   "cell_type": "code",
   "execution_count": 2,
   "id": "d9ee7040",
   "metadata": {},
   "outputs": [
    {
     "data": {
      "text/plain": [
       "complex"
      ]
     },
     "execution_count": 2,
     "metadata": {},
     "output_type": "execute_result"
    }
   ],
   "source": [
    "n=34+4j\n",
    "type(n)"
   ]
  },
  {
   "cell_type": "raw",
   "id": "86e278d8",
   "metadata": {},
   "source": [
    "type() type func. tells us the type of a variable."
   ]
  },
  {
   "cell_type": "raw",
   "id": "b61bdb64",
   "metadata": {},
   "source": [
    "True=1\n",
    "False=0"
   ]
  },
  {
   "cell_type": "code",
   "execution_count": 3,
   "id": "7f1bae1a",
   "metadata": {},
   "outputs": [
    {
     "name": "stdout",
     "output_type": "stream",
     "text": [
      "2\n",
      "-1\n"
     ]
    }
   ],
   "source": [
    "print(True+True-False)\n",
    "print(-True)"
   ]
  },
  {
   "cell_type": "code",
   "execution_count": 4,
   "id": "9f41efd5",
   "metadata": {},
   "outputs": [
    {
     "name": "stdout",
     "output_type": "stream",
     "text": [
      "Enter any integer1\n",
      "Enter any integer2\n",
      "Enter any integer3\n"
     ]
    }
   ],
   "source": [
    "a=int(input(\"Enter any integer\"))\n",
    "b=int(input(\"Enter any integer\"))\n",
    "c=int(input(\"Enter any integer\"))\n"
   ]
  },
  {
   "cell_type": "code",
   "execution_count": 5,
   "id": "3b4f2dd5",
   "metadata": {},
   "outputs": [],
   "source": [
    "o=(a+b)/c"
   ]
  },
  {
   "cell_type": "code",
   "execution_count": 6,
   "id": "adc8fd62",
   "metadata": {},
   "outputs": [],
   "source": [
    "o1=o+(3+8j)"
   ]
  },
  {
   "cell_type": "code",
   "execution_count": 7,
   "id": "1828f9c2",
   "metadata": {},
   "outputs": [
    {
     "data": {
      "text/plain": [
       "'(4+8j)rajat'"
      ]
     },
     "execution_count": 7,
     "metadata": {},
     "output_type": "execute_result"
    }
   ],
   "source": [
    "str(o1)+\"rajat\""
   ]
  },
  {
   "cell_type": "code",
   "execution_count": 8,
   "id": "5f5abff5",
   "metadata": {},
   "outputs": [
    {
     "name": "stdout",
     "output_type": "stream",
     "text": [
      "input a number lesser than 3412\n"
     ]
    }
   ],
   "source": [
    "a=int(input(\"input a number lesser than 34\"))"
   ]
  },
  {
   "cell_type": "code",
   "execution_count": 9,
   "id": "a414d099",
   "metadata": {},
   "outputs": [
    {
     "name": "stdout",
     "output_type": "stream",
     "text": [
      "dataset is lesser than 100\n"
     ]
    }
   ],
   "source": [
    "if(a<100):\n",
    "    print(\"dataset is lesser than 100\")\n",
    "else:\n",
    "    print(\"dataset is greater than 100\")\n"
   ]
  },
  {
   "cell_type": "code",
   "execution_count": 10,
   "id": "42498b3b",
   "metadata": {},
   "outputs": [],
   "source": [
    "if a>10000:\n",
    "    pass"
   ]
  },
  {
   "cell_type": "code",
   "execution_count": 11,
   "id": "ba7558d0",
   "metadata": {},
   "outputs": [
    {
     "name": "stdout",
     "output_type": "stream",
     "text": [
      "*********\n",
      " *******\n",
      "  *****\n",
      "   ***\n",
      "    *\n"
     ]
    }
   ],
   "source": [
    "n=5\n",
    "for i in range(n,0,-1):\n",
    "    for j in range(n-i):\n",
    "        print(\" \",end=\"\")\n",
    "    for k in range(2*i-1):\n",
    "        print(\"*\",end=\"\")\n",
    "    print()    "
   ]
  },
  {
   "cell_type": "code",
   "execution_count": 12,
   "id": "5880241a",
   "metadata": {},
   "outputs": [
    {
     "name": "stdout",
     "output_type": "stream",
     "text": [
      "*********\n",
      " \n",
      " \n",
      " \n",
      " \n",
      " \n"
     ]
    }
   ],
   "source": [
    "n,i=5,5\n",
    "j,k=0,0\n",
    "while i>=0:\n",
    "    while j<n-i:\n",
    "        print(\" \",end=\"\")\n",
    "        j+=1\n",
    "    while k<(2*i-1):\n",
    "        print(\"*\",end=\"\")\n",
    "        k+=1\n",
    "    print()\n",
    "    i-=1"
   ]
  },
  {
   "cell_type": "code",
   "execution_count": 2,
   "id": "00436efc",
   "metadata": {},
   "outputs": [],
   "source": [
    "s='this is a full stack class'\n"
   ]
  },
  {
   "cell_type": "code",
   "execution_count": 14,
   "id": "aadf2c35",
   "metadata": {},
   "outputs": [
    {
     "data": {
      "text/plain": [
       "26"
      ]
     },
     "execution_count": 14,
     "metadata": {},
     "output_type": "execute_result"
    }
   ],
   "source": [
    "#Lenght function used to calculate the length\n",
    "len(s) "
   ]
  },
  {
   "cell_type": "code",
   "execution_count": 15,
   "id": "f58ec1c0",
   "metadata": {},
   "outputs": [
    {
     "name": "stdout",
     "output_type": "stream",
     "text": [
      "t\n",
      "h\n",
      "i\n",
      "s\n",
      " \n",
      "i\n",
      "s\n",
      " \n",
      "a\n",
      " \n",
      "f\n",
      "u\n",
      "l\n",
      "l\n",
      " \n",
      "s\n",
      "t\n",
      "a\n",
      "c\n",
      "k\n",
      " \n",
      "c\n",
      "l\n",
      "a\n",
      "s\n",
      "s\n"
     ]
    }
   ],
   "source": [
    "for i in s:\n",
    "    print(i)"
   ]
  },
  {
   "cell_type": "raw",
   "id": "46a2cb7f",
   "metadata": {},
   "source": [
    "Strings are immutable and list are mutable objects"
   ]
  },
  {
   "cell_type": "code",
   "execution_count": 16,
   "id": "2ed8e983",
   "metadata": {},
   "outputs": [
    {
     "data": {
      "text/plain": [
       "10"
      ]
     },
     "execution_count": 16,
     "metadata": {},
     "output_type": "execute_result"
    }
   ],
   "source": [
    "#find function is used to find a substring in a string it returns the starting index of the substring.\n",
    "s.find(\"fu\")"
   ]
  },
  {
   "cell_type": "code",
   "execution_count": 17,
   "id": "416d8a4f",
   "metadata": {},
   "outputs": [],
   "source": [
    "s1=\"my name is\""
   ]
  },
  {
   "cell_type": "code",
   "execution_count": 18,
   "id": "2f9753fd",
   "metadata": {},
   "outputs": [
    {
     "data": {
      "text/plain": [
       "'name'"
      ]
     },
     "execution_count": 18,
     "metadata": {},
     "output_type": "execute_result"
    }
   ],
   "source": [
    "s1[3:7]"
   ]
  },
  {
   "cell_type": "code",
   "execution_count": 19,
   "id": "8ada602d",
   "metadata": {},
   "outputs": [
    {
     "name": "stdout",
     "output_type": "stream",
     "text": [
      "3\n",
      "4\n",
      "5\n",
      "6\n"
     ]
    }
   ],
   "source": [
    "b=s1.find(\"name\")\n",
    "for i in range(len(\"name\")):\n",
    "    print(b+i)"
   ]
  },
  {
   "cell_type": "code",
   "execution_count": 20,
   "id": "33b67350",
   "metadata": {},
   "outputs": [
    {
     "data": {
      "text/plain": [
       "2"
      ]
     },
     "execution_count": 20,
     "metadata": {},
     "output_type": "execute_result"
    }
   ],
   "source": [
    "#count function is used to couunt the number of occurence of the substring in a string\n",
    "s1.count(\"m\")"
   ]
  },
  {
   "cell_type": "code",
   "execution_count": 21,
   "id": "c1e120bc",
   "metadata": {},
   "outputs": [
    {
     "data": {
      "text/plain": [
       "['my n', 'me is']"
      ]
     },
     "execution_count": 21,
     "metadata": {},
     "output_type": "execute_result"
    }
   ],
   "source": [
    "#split function create a list of a given string and split that list on the basis of passed value.\n",
    "s1.split(\"a\")"
   ]
  },
  {
   "cell_type": "code",
   "execution_count": 22,
   "id": "b0044f21",
   "metadata": {},
   "outputs": [
    {
     "data": {
      "text/plain": [
       "'this is a full stack class'"
      ]
     },
     "execution_count": 22,
     "metadata": {},
     "output_type": "execute_result"
    }
   ],
   "source": [
    "s"
   ]
  },
  {
   "cell_type": "code",
   "execution_count": 23,
   "id": "08b75547",
   "metadata": {},
   "outputs": [
    {
     "data": {
      "text/plain": [
       "'THIS IS A FULL STACK CLASS'"
      ]
     },
     "execution_count": 23,
     "metadata": {},
     "output_type": "execute_result"
    }
   ],
   "source": [
    "s.upper()"
   ]
  },
  {
   "cell_type": "code",
   "execution_count": 24,
   "id": "2e666b94",
   "metadata": {},
   "outputs": [
    {
     "data": {
      "text/plain": [
       "'this is a full stack class'"
      ]
     },
     "execution_count": 24,
     "metadata": {},
     "output_type": "execute_result"
    }
   ],
   "source": [
    "s.lower()"
   ]
  },
  {
   "cell_type": "code",
   "execution_count": 25,
   "id": "f5476aab",
   "metadata": {},
   "outputs": [
    {
     "data": {
      "text/plain": [
       "'THIS IS A FULL STACK CLASS'"
      ]
     },
     "execution_count": 25,
     "metadata": {},
     "output_type": "execute_result"
    }
   ],
   "source": [
    "s.swapcase()"
   ]
  },
  {
   "cell_type": "code",
   "execution_count": 6,
   "id": "a10680e9",
   "metadata": {},
   "outputs": [
    {
     "data": {
      "text/plain": [
       "'t h i s   i s   a   f u l l   s t a c k   c l a s s'"
      ]
     },
     "execution_count": 6,
     "metadata": {},
     "output_type": "execute_result"
    }
   ],
   "source": [
    "#join function will enter hte given value after every character of the given string\n",
    "\" \".join(s)"
   ]
  },
  {
   "cell_type": "code",
   "execution_count": 27,
   "id": "e337af0f",
   "metadata": {},
   "outputs": [
    {
     "data": {
      "text/plain": [
       "'ssalc kcats lluf a si siht'"
      ]
     },
     "execution_count": 27,
     "metadata": {},
     "output_type": "execute_result"
    }
   ],
   "source": [
    "#reveresing the given string\n",
    "s[::-1]"
   ]
  },
  {
   "cell_type": "code",
   "execution_count": 29,
   "id": "8a45d37a",
   "metadata": {},
   "outputs": [
    {
     "data": {
      "text/plain": [
       "['s',\n",
       " 's',\n",
       " 'a',\n",
       " 'l',\n",
       " 'c',\n",
       " ' ',\n",
       " 'k',\n",
       " 'c',\n",
       " 'a',\n",
       " 't',\n",
       " 's',\n",
       " ' ',\n",
       " 'l',\n",
       " 'l',\n",
       " 'u',\n",
       " 'f',\n",
       " ' ',\n",
       " 'a',\n",
       " ' ',\n",
       " 's',\n",
       " 'i',\n",
       " ' ',\n",
       " 's',\n",
       " 'i',\n",
       " 'h',\n",
       " 't']"
      ]
     },
     "execution_count": 29,
     "metadata": {},
     "output_type": "execute_result"
    }
   ],
   "source": [
    "list(reversed(s))"
   ]
  },
  {
   "cell_type": "code",
   "execution_count": 30,
   "id": "3d62acfe",
   "metadata": {},
   "outputs": [
    {
     "name": "stdout",
     "output_type": "stream",
     "text": [
      "s\n",
      "s\n",
      "a\n",
      "l\n",
      "c\n",
      " \n",
      "k\n",
      "c\n",
      "a\n",
      "t\n",
      "s\n",
      " \n",
      "l\n",
      "l\n",
      "u\n",
      "f\n",
      " \n",
      "a\n",
      " \n",
      "s\n",
      "i\n",
      " \n",
      "s\n",
      "i\n",
      "h\n",
      "t\n"
     ]
    }
   ],
   "source": [
    "for i in reversed(s):\n",
    "    print(i)"
   ]
  },
  {
   "cell_type": "code",
   "execution_count": 8,
   "id": "2781ca92",
   "metadata": {},
   "outputs": [
    {
     "data": {
      "text/plain": [
       "'rajat chauhan'"
      ]
     },
     "execution_count": 8,
     "metadata": {},
     "output_type": "execute_result"
    }
   ],
   "source": [
    "#strip function delete the extra space from the starting and the ending of the string\n",
    "s2=\"   rajat chauhan     \"\n",
    "s2.strip()"
   ]
  },
  {
   "cell_type": "code",
   "execution_count": 33,
   "id": "550c03ae",
   "metadata": {},
   "outputs": [
    {
     "data": {
      "text/plain": [
       "'rajat   '"
      ]
     },
     "execution_count": 33,
     "metadata": {},
     "output_type": "execute_result"
    }
   ],
   "source": [
    "s2.lstrip()"
   ]
  },
  {
   "cell_type": "code",
   "execution_count": 34,
   "id": "7f8d25d9",
   "metadata": {},
   "outputs": [
    {
     "data": {
      "text/plain": [
       "'   rajat'"
      ]
     },
     "execution_count": 34,
     "metadata": {},
     "output_type": "execute_result"
    }
   ],
   "source": [
    "s2.rstrip()"
   ]
  },
  {
   "cell_type": "code",
   "execution_count": 35,
   "id": "2297a4cd",
   "metadata": {},
   "outputs": [],
   "source": [
    "s3=\"greetings from rajat\""
   ]
  },
  {
   "cell_type": "code",
   "execution_count": 36,
   "id": "1f4d0fcb",
   "metadata": {},
   "outputs": [
    {
     "data": {
      "text/plain": [
       "'sreetinss from rajat'"
      ]
     },
     "execution_count": 36,
     "metadata": {},
     "output_type": "execute_result"
    }
   ],
   "source": [
    "#replace function replace the first parameter from the second parameter\n",
    "s3.replace(\"g\",\"s\")"
   ]
  },
  {
   "cell_type": "code",
   "execution_count": 37,
   "id": "9ab47343",
   "metadata": {},
   "outputs": [
    {
     "data": {
      "text/plain": [
       "'this is a full stack class'"
      ]
     },
     "execution_count": 37,
     "metadata": {},
     "output_type": "execute_result"
    }
   ],
   "source": [
    "s"
   ]
  },
  {
   "cell_type": "code",
   "execution_count": 38,
   "id": "c0f56b78",
   "metadata": {},
   "outputs": [
    {
     "data": {
      "text/plain": [
       "'here is a full stack class'"
      ]
     },
     "execution_count": 38,
     "metadata": {},
     "output_type": "execute_result"
    }
   ],
   "source": [
    "s.replace(\"this\",\"here\")"
   ]
  },
  {
   "cell_type": "code",
   "execution_count": 42,
   "id": "92a55dcf",
   "metadata": {},
   "outputs": [
    {
     "data": {
      "text/plain": [
       "'   rajat   '"
      ]
     },
     "execution_count": 42,
     "metadata": {},
     "output_type": "execute_result"
    }
   ],
   "source": [
    "s2.center(10,\"@\")"
   ]
  },
  {
   "cell_type": "code",
   "execution_count": 43,
   "id": "52e5ace3",
   "metadata": {},
   "outputs": [],
   "source": [
    "s=\"rajat\\tchauhan\""
   ]
  },
  {
   "cell_type": "code",
   "execution_count": 44,
   "id": "434e505d",
   "metadata": {},
   "outputs": [
    {
     "data": {
      "text/plain": [
       "'rajat\\tchauhan'"
      ]
     },
     "execution_count": 44,
     "metadata": {},
     "output_type": "execute_result"
    }
   ],
   "source": [
    "s"
   ]
  },
  {
   "cell_type": "code",
   "execution_count": 45,
   "id": "cbd6a742",
   "metadata": {},
   "outputs": [
    {
     "data": {
      "text/plain": [
       "'rajat   chauhan'"
      ]
     },
     "execution_count": 45,
     "metadata": {},
     "output_type": "execute_result"
    }
   ],
   "source": [
    "s.expandtabs()"
   ]
  },
  {
   "cell_type": "code",
   "execution_count": 46,
   "id": "9d93fa2a",
   "metadata": {},
   "outputs": [],
   "source": [
    "a=\"we all are a part of Full Stack\""
   ]
  },
  {
   "cell_type": "code",
   "execution_count": 47,
   "id": "dce7c83e",
   "metadata": {},
   "outputs": [
    {
     "data": {
      "text/plain": [
       "'we all are a part of full stack'"
      ]
     },
     "execution_count": 47,
     "metadata": {},
     "output_type": "execute_result"
    }
   ],
   "source": [
    "a.lower()"
   ]
  },
  {
   "cell_type": "code",
   "execution_count": null,
   "id": "0b882573",
   "metadata": {},
   "outputs": [],
   "source": []
  },
  {
   "cell_type": "code",
   "execution_count": 48,
   "id": "4f42320d",
   "metadata": {},
   "outputs": [
    {
     "data": {
      "text/plain": [
       "5"
      ]
     },
     "execution_count": 48,
     "metadata": {},
     "output_type": "execute_result"
    }
   ],
   "source": [
    "a.count(\"a\")"
   ]
  },
  {
   "cell_type": "code",
   "execution_count": 52,
   "id": "45532dbc",
   "metadata": {},
   "outputs": [
    {
     "name": "stdout",
     "output_type": "stream",
     "text": [
      "3\n",
      "7\n",
      "11\n",
      "14\n",
      "28\n"
     ]
    }
   ],
   "source": [
    "for i in range(len(a)):\n",
    "    if a[i]=='a':\n",
    "        print(i)"
   ]
  },
  {
   "cell_type": "code",
   "execution_count": 50,
   "id": "fefdca3e",
   "metadata": {},
   "outputs": [
    {
     "data": {
      "text/plain": [
       "'we iNeuronll iNeuronre iNeuron piNeuronrt of Full StiNeuronck'"
      ]
     },
     "execution_count": 50,
     "metadata": {},
     "output_type": "execute_result"
    }
   ],
   "source": [
    "a.replace(\"a\",\"iNeuron\")"
   ]
  },
  {
   "cell_type": "code",
   "execution_count": 51,
   "id": "0571e1d7",
   "metadata": {},
   "outputs": [
    {
     "data": {
      "text/plain": [
       "['we', 'all', 'are', 'a', 'part', 'of', 'Full', 'Stack']"
      ]
     },
     "execution_count": 51,
     "metadata": {},
     "output_type": "execute_result"
    }
   ],
   "source": [
    "a.split()"
   ]
  },
  {
   "cell_type": "code",
   "execution_count": 53,
   "id": "26669f34",
   "metadata": {},
   "outputs": [
    {
     "data": {
      "text/plain": [
       "False"
      ]
     },
     "execution_count": 53,
     "metadata": {},
     "output_type": "execute_result"
    }
   ],
   "source": [
    "s=\"rajat\"\n",
    "s.isupper()"
   ]
  },
  {
   "cell_type": "code",
   "execution_count": 54,
   "id": "9eadf1b2",
   "metadata": {},
   "outputs": [
    {
     "data": {
      "text/plain": [
       "True"
      ]
     },
     "execution_count": 54,
     "metadata": {},
     "output_type": "execute_result"
    }
   ],
   "source": [
    "s.islower()"
   ]
  },
  {
   "cell_type": "code",
   "execution_count": 55,
   "id": "f4e68dd6",
   "metadata": {},
   "outputs": [
    {
     "data": {
      "text/plain": [
       "False"
      ]
     },
     "execution_count": 55,
     "metadata": {},
     "output_type": "execute_result"
    }
   ],
   "source": [
    "s.isdigit()"
   ]
  },
  {
   "cell_type": "code",
   "execution_count": 56,
   "id": "4b06badf",
   "metadata": {},
   "outputs": [
    {
     "data": {
      "text/plain": [
       "False"
      ]
     },
     "execution_count": 56,
     "metadata": {},
     "output_type": "execute_result"
    }
   ],
   "source": [
    "s.isspace()"
   ]
  },
  {
   "cell_type": "code",
   "execution_count": 57,
   "id": "3cd47e2b",
   "metadata": {},
   "outputs": [
    {
     "data": {
      "text/plain": [
       "True"
      ]
     },
     "execution_count": 57,
     "metadata": {},
     "output_type": "execute_result"
    }
   ],
   "source": [
    "s.endswith(\"t\")"
   ]
  },
  {
   "cell_type": "code",
   "execution_count": 59,
   "id": "08fdd7b2",
   "metadata": {},
   "outputs": [
    {
     "data": {
      "text/plain": [
       "False"
      ]
     },
     "execution_count": 59,
     "metadata": {},
     "output_type": "execute_result"
    }
   ],
   "source": [
    "s.startswith(\"s\")"
   ]
  },
  {
   "cell_type": "code",
   "execution_count": 63,
   "id": "d1e47876",
   "metadata": {},
   "outputs": [
    {
     "data": {
      "text/plain": [
       "True"
      ]
     },
     "execution_count": 63,
     "metadata": {},
     "output_type": "execute_result"
    }
   ],
   "source": [
    "s.isalpha()"
   ]
  },
  {
   "cell_type": "code",
   "execution_count": 65,
   "id": "5b05cc81",
   "metadata": {},
   "outputs": [
    {
     "data": {
      "text/plain": [
       "True"
      ]
     },
     "execution_count": 65,
     "metadata": {},
     "output_type": "execute_result"
    }
   ],
   "source": [
    "s.isalnum()"
   ]
  },
  {
   "cell_type": "code",
   "execution_count": 2,
   "id": "46165176",
   "metadata": {},
   "outputs": [
    {
     "name": "stdout",
     "output_type": "stream",
     "text": [
      "i is a vowel\n",
      "n is not a vowel\n",
      "e is a vowel\n",
      "u is a vowel\n",
      "r is not a vowel\n",
      "o is a vowel\n",
      "n is not a vowel\n"
     ]
    }
   ],
   "source": [
    "#formatting using format function it will replace the {} from the given string by the passed value in the format function.\n",
    "name=\"ineuron\"\n",
    "vowels=\"AEIOUaeiou\"\n",
    "for i in name:\n",
    "    if i in vowels:\n",
    "        print(\"{} is a vowel\".format(i))\n",
    "    else:\n",
    "        print(\"{} is not a vowel\".format(i))"
   ]
  },
  {
   "cell_type": "code",
   "execution_count": 4,
   "id": "a6ce9a27",
   "metadata": {},
   "outputs": [
    {
     "data": {
      "text/plain": [
       "'my name is rajat'"
      ]
     },
     "execution_count": 4,
     "metadata": {},
     "output_type": "execute_result"
    }
   ],
   "source": [
    "#here {} replaced ny my and is\n",
    "\"{} name {} rajat\".format(\"my\",\"is\")"
   ]
  },
  {
   "cell_type": "code",
   "execution_count": null,
   "id": "d1a8cac0",
   "metadata": {},
   "outputs": [],
   "source": []
  }
 ],
 "metadata": {
  "kernelspec": {
   "display_name": "Python 3 (ipykernel)",
   "language": "python",
   "name": "python3"
  },
  "language_info": {
   "codemirror_mode": {
    "name": "ipython",
    "version": 3
   },
   "file_extension": ".py",
   "mimetype": "text/x-python",
   "name": "python",
   "nbconvert_exporter": "python",
   "pygments_lexer": "ipython3",
   "version": "3.10.9"
  }
 },
 "nbformat": 4,
 "nbformat_minor": 5
}
